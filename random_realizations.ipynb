{
 "cells": [
  {
   "cell_type": "code",
   "execution_count": 1,
   "metadata": {},
   "outputs": [],
   "source": [
    "import numpy as np"
   ]
  },
  {
   "cell_type": "code",
   "execution_count": 25,
   "metadata": {},
   "outputs": [],
   "source": [
    "ext_355 = { \n",
    "    'value' : 23.198,\n",
    "    'error' : 0.2690,\n",
    "}\n",
    "\n",
    "ext_532 = {\n",
    "    'value' : 27.618,\n",
    "    'error' : 0.2970,\n",
    "}\n",
    "\n",
    "back_355 = {\n",
    "    'value' : 0.52973,\n",
    "    'error' : 0.0613,\n",
    "}\n",
    "\n",
    "back_532 = {\n",
    "    'value' : 0.58056,\n",
    "    'error' : 0.0455,\n",
    "}\n",
    "\n",
    "back_1064 = {\n",
    "    'value' : 0.36536,\n",
    "    'error' : 0.2049,\n",
    "}\n",
    "\n",
    "pd_355 = {\n",
    "    'value' : 0.3710,\n",
    "    'error' : 0.2259,\n",
    "}\n",
    "\n",
    "pd_532 = {\n",
    "    'value' : 0.4365,\n",
    "    'error' : 0.1199,\n",
    "}\n"
   ]
  },
  {
   "cell_type": "code",
   "execution_count": 30,
   "metadata": {},
   "outputs": [],
   "source": [
    "n = 100\n",
    "ext_355_realizations = np.random.normal(loc=ext_355['value'] , scale=ext_355['error']*ext_355['value'] , size=n)\n",
    "ext_532_realizations = np.random.normal(loc=ext_532['value'] , scale=ext_532['error']*ext_532['value'] , size=n)\n",
    "back_355_realizations = np.random.normal(loc=back_355['value'], scale=back_355['error']*back_355['value'], size=n)\n",
    "back_532_realizations = np.random.normal(loc=back_532['value'], scale=back_532['error']*back_532['value'], size=n)\n",
    "back_1064_realizations = np.random.normal(loc=back_1064['value'], scale=back_1064['error']*back_1064['value'], size=n)\n",
    "\n",
    "pd_355_realizations = np.random.normal(loc=pd_355['value'] , scale=pd_355['error']*pd_355['value'] , size=n)\n",
    "pd_532_realizations = np.random.normal(loc=pd_532['value'] , scale=pd_532['error']*pd_532['value'] , size=n)"
   ]
  },
  {
   "cell_type": "code",
   "execution_count": 31,
   "metadata": {},
   "outputs": [
    {
     "data": {
      "text/plain": [
       "array([0.61401126, 0.5741997 , 0.59924789, 0.5938685 , 0.60356281,\n",
       "       0.554919  , 0.60735884, 0.55143846, 0.56821969, 0.59692739,\n",
       "       0.58502606, 0.58390347, 0.61178544, 0.58978172, 0.59247474,\n",
       "       0.56011454, 0.59805425, 0.60552774, 0.57057074, 0.56479441,\n",
       "       0.57386633, 0.52684954, 0.55733633, 0.54844408, 0.60818522,\n",
       "       0.52734917, 0.59976518, 0.59110174, 0.61319471, 0.59088177,\n",
       "       0.5932686 , 0.58754086, 0.58524796, 0.58424188, 0.61749334,\n",
       "       0.60264205, 0.5582157 , 0.55384302, 0.589963  , 0.5837156 ,\n",
       "       0.57357869, 0.60165573, 0.60159302, 0.59172418, 0.57830353,\n",
       "       0.62008915, 0.61707338, 0.54243783, 0.55301094, 0.62800969,\n",
       "       0.62480548, 0.55909529, 0.55385323, 0.58095747, 0.58243084,\n",
       "       0.58873075, 0.60771915, 0.59314658, 0.5932332 , 0.54540175,\n",
       "       0.60035924, 0.53783662, 0.52786116, 0.59072641, 0.60434809,\n",
       "       0.57291885, 0.52941897, 0.55785565, 0.54235527, 0.55461591,\n",
       "       0.5903086 , 0.579381  , 0.62054491, 0.56593306, 0.56296889,\n",
       "       0.56615173, 0.59576695, 0.54741558, 0.58146679, 0.54620384,\n",
       "       0.54473187, 0.59140159, 0.56889657, 0.5683784 , 0.53116416,\n",
       "       0.63063705, 0.57215484, 0.53234596, 0.61003869, 0.57969561,\n",
       "       0.58905025, 0.5282567 , 0.58225692, 0.56624773, 0.57147558,\n",
       "       0.58221196, 0.63508977, 0.57648542, 0.53426845, 0.57978299])"
      ]
     },
     "execution_count": 31,
     "metadata": {},
     "output_type": "execute_result"
    }
   ],
   "source": [
    "for i in range(n)\n",
    "    extinction = {\n",
    "    'value' : [ext_355_realizations[i], ext_532_realizations[i]],\n",
    "    'error' : [0.2690, 0.2970],\n",
    "    }\n",
    "    backscatter = {\n",
    "        'value' : [back_355_realizations, back_532_realizations, back_1064_realizations,\n",
    "        'error' : [0.0613, 0.0455, 0.2049],\n",
    "    }\n",
    "    particle_depolarization = {\n",
    "        'value' : [pd_355_realizations[i], pd_355_realizations[i]],\n",
    "        'error' : [0.2259, 0.1199],\n",
    "}"
   ]
  },
  {
   "cell_type": "code",
   "execution_count": null,
   "metadata": {},
   "outputs": [],
   "source": []
  }
 ],
 "metadata": {
  "kernelspec": {
   "display_name": "Python 3",
   "language": "python",
   "name": "python3"
  },
  "language_info": {
   "codemirror_mode": {
    "name": "ipython",
    "version": 3
   },
   "file_extension": ".py",
   "mimetype": "text/x-python",
   "name": "python",
   "nbconvert_exporter": "python",
   "pygments_lexer": "ipython3",
   "version": "3.11.3"
  }
 },
 "nbformat": 4,
 "nbformat_minor": 2
}
