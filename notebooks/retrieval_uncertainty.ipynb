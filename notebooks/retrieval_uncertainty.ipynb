{
 "cells": [
  {
   "cell_type": "markdown",
   "metadata": {},
   "source": [
    "# BOREAL CONTROL CODE TO FIND RETRIEVAL UNCERTAINTY "
   ]
  },
  {
   "cell_type": "markdown",
   "metadata": {},
   "source": [
    "## Imports"
   ]
  },
  {
   "cell_type": "code",
   "execution_count": 1,
   "metadata": {},
   "outputs": [],
   "source": [
    "from selenium import webdriver\n",
    "from selenium.webdriver.common.by import By\n",
    "from selenium.webdriver.common.keys import Keys\n",
    "from selenium.webdriver.support.ui import WebDriverWait\n",
    "from selenium.webdriver.support import expected_conditions as EC\n",
    "from selenium.webdriver.chrome.options import Options\n",
    "from selenium.common.exceptions import TimeoutException\n",
    "from selenium.webdriver.common.action_chains import ActionChains\n",
    "from selenium.webdriver.chrome.service import Service\n",
    "import utils\n",
    "import os\n",
    "import time\n",
    "import math\n",
    "from itertools import product\n",
    "from utils import rename_files\n",
    "from tqdm import tqdm\n",
    "import numpy as np\n",
    "# %pip install matplotlib.pyplot\n",
    "import matplotlib.pyplot as plt\n"
   ]
  },
  {
   "cell_type": "markdown",
   "metadata": {},
   "source": [
    "## Chrome Preferences "
   ]
  },
  {
   "cell_type": "code",
   "execution_count": 2,
   "metadata": {},
   "outputs": [],
   "source": [
    "download_path = \"/Users/dada/Documents/RESULTS/Results_BCN21thMarch2024\"\n",
    "chrome_options = Options()\n",
    "prefs = {\n",
    "    \"download.default_directory\": download_path,\n",
    "    \"download.prompt_for_download\": False,\n",
    "    \"download.directory_upgrade\": True,\n",
    "    \"safebrowsing.enabled\": True\n",
    "}\n",
    "chrome_options.add_experimental_option(\"prefs\", prefs)\n",
    "# Headless option is used to use Selenium in headless mode \n",
    "chrome_options.add_argument(\"--headless\")\n",
    "chrome_options.add_argument(\"--disable-gpu\")  # Disables GPU hardware acceleration. If software renderer is not in place, then the headless browser will not launch on Windows.\n",
    "chrome_options.add_argument(\"--no-sandbox\")  # Bypass OS security model, MUST BE THE VERY FIRST OPTION.\n",
    "chrome_options.add_argument(\"--disable-dev-shm-usage\") # Overcome limited resource problems."
   ]
  },
  {
   "cell_type": "markdown",
   "metadata": {},
   "source": [
    "## Useful Paths and Input Parameters "
   ]
  },
  {
   "cell_type": "code",
   "execution_count": null,
   "metadata": {},
   "outputs": [
    {
     "name": "stdout",
     "output_type": "stream",
     "text": [
      "Directory where to save results: /Users/dada/Desktop/TFM/EARLINET_Database/FINAL_CASES/BCN_12_04_2024/TO_BE_TESTED\n",
      "{'extinction': [1, 1, 0], 'backscatter': [1, 1, 1], 'particle depolarization': [1, 1, 0]}\n"
     ]
    },
    {
     "data": {
      "image/png": "[encoded data removed]",
      "text/plain": [
       "<Figure size 1000x1000 with 1 Axes>"
      ]
     },
     "metadata": {},
     "output_type": "display_data"
    }
   ],
   "source": [
    "directory = '/Users/dada/Desktop/TFM/EARLINET_Database/FINAL_CASES/BCN_12_04_2024/TO_BE_TESTED'\n",
    "print(f'Directory where to save results: {directory}')\n",
    "\n",
    "################## SELECT WAVELENGTHS TO BE CONSIDERED ################## \n",
    "wavelengths_to_select = {\n",
    "    'extinction' : [1,1,0],\n",
    "    'backscatter' : [1,1,1],\n",
    "    'particle depolarization' : [1,1,0],\n",
    "} \n",
    "print(wavelengths_to_select)\n",
    "################## INPUT VALUES #########################################\n",
    "# # Barcelona 12th April 2024 \n",
    "# ext_355 = { \n",
    "#     'value' : 23.198,\n",
    "#     'error' : 0.2690,\n",
    "# }\n",
    "# ext_532 = {\n",
    "#     'value' : 27.618,\n",
    "#     'error' : 0.2970,\n",
    "# }\n",
    "# back_355 = {\n",
    "#     'value' : 0.52973,\n",
    "#     'error' : 0.0613,\n",
    "# }\n",
    "# back_532 = {\n",
    "#     'value' : 0.58056,\n",
    "#     'error' : 0.0455,\n",
    "# }\n",
    "# back_1064 = {\n",
    "#     'value' : 0.36536,\n",
    "#     'error' : 0.2049,\n",
    "# }\n",
    "# pd_355 = {\n",
    "#     'value' : 0.3710,\n",
    "#     'error' : 0.2259,\n",
    "# }\n",
    "# pd_532 = {\n",
    "#     'value' : 0.4365,\n",
    "#     'error' : 0.1199,\n",
    "# }\n",
    "\n",
    "# Lille 30th May 2024\n",
    "ext_355 = { \n",
    "    'value' : 139.8,\n",
    "    'error' : 0.0422,\n",
    "}\n",
    "ext_532 = {\n",
    "    'value' : 77.305,\n",
    "    'error' : 0.0469,\n",
    "}\n",
    "back_355 = {\n",
    "    'value' : 3.0558,\n",
    "    'error' : 0.0746,\n",
    "}\n",
    "back_532 = {\n",
    "    'value' : 1.1371,\n",
    "    'error' : 0.0133,\n",
    "}\n",
    "################## GENERATE REALIZATIONS ################################\n",
    "n = 100  \n",
    "np.random.seed(0)\n",
    "ext_355_realizations = np.random.normal(loc=ext_355['value'] , scale=ext_355['error']*ext_355['value'] , size=n)\n",
    "ext_532_realizations = np.random.normal(loc=ext_532['value'] , scale=ext_532['error']*ext_532['value'] , size=n)\n",
    "\n",
    "back_355_realizations = np.random.normal(loc=back_355['value'], scale=back_355['error']*back_355['value'], size=n)\n",
    "back_532_realizations = np.random.normal(loc=back_532['value'], scale=back_532['error']*back_532['value'], size=n)\n",
    "# back_1064_realizations = np.random.normal(loc=back_1064['value'], scale=back_1064['error']*back_1064['value'], size=n)\n",
    "\n",
    "# pd_355_realizations = np.random.normal(loc=pd_355['value'] , scale=pd_355['error']*pd_355['value'] , size=n)\n",
    "# pd_532_realizations = np.random.normal(loc=pd_532['value'] , scale=pd_532['error']*pd_532['value'] , size=n)\n",
    "\n",
    "figure = plt.figure(figsize=(10,10))\n",
    "plt.hist(ext_355_realizations, bins=20, density=True, alpha=0.7)\n",
    "plt.xlabel('Extinction (355 nm)')\n",
    "plt.ylabel('Frequency')\n",
    "plt.title('Distribution of Extinction Realizations')\n",
    "plt.show()"
   ]
  },
  {
   "cell_type": "code",
   "execution_count": null,
   "metadata": {},
   "outputs": [
    {
     "name": "stdout",
     "output_type": "stream",
     "text": [
      "Extinction 355: value = 23.571217686635254, error = 0.2668275078442661\n",
      "Extinction 532: value = 28.290715165155788, error = 0.2999890102327079\n",
      "Backscatter 355: value = 0.5278065834398216, error = 0.05857042610517163\n",
      "Backscatter 532: value = 0.5753615205341707, error = 0.04266771530787501\n",
      "Backscatter 1064: value = 0.364419414356914, error = 0.21306530799368642\n",
      "PD 355: value = 0.35399257779950305, error = 0.24077267157386273\n",
      "PD 532: value = 0.42943722892339353, error = 0.12223914001697085\n"
     ]
    }
   ],
   "source": [
    "ext_355_mean = np.mean(ext_355_realizations)\n",
    "ext_355_std = np.std(ext_355_realizations)\n",
    "ext_355_error = ext_355_std/ext_355_mean\n",
    "print(f'Extinction 355: value = {ext_355_mean}, error = {ext_355_error}')\n",
    "\n",
    "ext_532_mean = np.mean(ext_532_realizations)\n",
    "ext_532_std = np.std(ext_532_realizations)\n",
    "ext_532_error = ext_532_std/ext_532_mean \n",
    "print(f'Extinction 532: value = {ext_532_mean}, error = {ext_532_error}')\n",
    "\n",
    "back_355_mean = np.mean(back_355_realizations)\n",
    "back_355_std = np.std(back_355_realizations)\n",
    "back_355_error = back_355_std/back_355_mean\n",
    "print(f'Backscatter 355: value = {back_355_mean}, error = {back_355_error}')\n",
    "\n",
    "back_532_mean = np.mean(back_532_realizations)\n",
    "back_532_std = np.std(back_532_realizations)\n",
    "back_532_error = back_532_std/back_532_mean\n",
    "print(f'Backscatter 532: value = {back_532_mean}, error = {back_532_error}')\n",
    "\n",
    "# back_1064_mean = np.mean(back_1064_realizations)\n",
    "# back_1064_std = np.std(back_1064_realizations)\n",
    "# back_1064_error = back_1064_std/back_1064_mean\n",
    "# print(f'Backscatter 1064: value = {back_1064_mean}, error = {back_1064_error}')\n",
    "\n",
    "# pd_355_mean = np.mean(pd_355_realizations)\n",
    "# pd_355_std = np.std(pd_355_realizations)\n",
    "# pd_355_error = pd_355_std/pd_355_mean\n",
    "# print(f'PD 355: value = {pd_355_mean}, error = {pd_355_error}')\n",
    "\n",
    "# pd_532_mean = np.mean(pd_532_realizations)\n",
    "# pd_532_std = np.std(pd_532_realizations)\n",
    "# pd_532_error = pd_532_std/pd_532_mean\n",
    "# print(f'PD 532: value = {pd_532_mean}, error = {pd_532_error}')\n",
    "\n"
   ]
  },
  {
   "cell_type": "code",
   "execution_count": null,
   "metadata": {},
   "outputs": [],
   "source": [
    "ext_355_realizations.shape"
   ]
  },
  {
   "cell_type": "markdown",
   "metadata": {},
   "source": [
    "## Main "
   ]
  },
  {
   "cell_type": "code",
   "execution_count": 5,
   "metadata": {},
   "outputs": [],
   "source": [
    "# ##### FIRST REALIZATION ####\n",
    "# extinction = {\n",
    "#     'value' : [23.198, 27.618],\n",
    "#     # 'error' : [0.1, 0.1],\n",
    "#     'error' : [0.2690, 0.2970],\n",
    "# }\n",
    "# backscatter = {\n",
    "#     'value' : [0.52973, 0.58056, 0.36536],\n",
    "#     # 'error' : [0.1, 0.1, 0.1],\n",
    "#     'error' : [0.0613, 0.0455, 0.2049],\n",
    "# }\n",
    "# particle_depolarization = {\n",
    "#     'value' : [0.3710, 0.4365],\n",
    "#     # 'error' : [0.1, 0.1],\n",
    "#     'error' : [0.2259, 0.1199],\n",
    "# }\n",
    "\n",
    "#### AVERAGE VALUES ####\n",
    "extinction = {\n",
    "    'value' : [ext_355_mean, ext_532_mean],\n",
    "    # 'error' : [0.1, 0.1],\n",
    "    'error' : [ext_355_error, ext_532_error],\n",
    "}\n",
    "backscatter = {\n",
    "    'value' : [back_355_mean, back_532_mean, back_1064_mean],\n",
    "    # 'error' : [0.1, 0.1, 0.1],\n",
    "    'error' : [back_355_error, back_532_error, back_1064_error],\n",
    "}\n",
    "particle_depolarization = {\n",
    "    'value' : [pd_355_mean, pd_532_mean],\n",
    "    # 'error' : [0.1, 0.1],\n",
    "    'error' : [pd_355_error, pd_532_error],\n",
    "}\n",
    "\n",
    "driver = webdriver.Chrome(options=chrome_options)\n",
    "# driver = webdriver.Chrome()\n",
    "driver.get(\"https://boreal.loa.univ-lille.fr/\")\n",
    "utils.press_button(driver,'clear') # Clear input parameters\n",
    "# utils.press_button(driver,'debug') # Allow debug\n",
    "\n",
    "################## INSERTING INPUT PARAMETERS #########################################\n",
    "# Select aerosol type\n",
    "utils.select_aerosol_type(driver, 'dust') \n",
    "# Select particle shape model\n",
    "utils.select_particle_shape_model(driver, 'spheroid') \n",
    "# Select wavlengths \n",
    "utils.select_wavelengths(driver, wavelengths_to_select)\n",
    "# Insert extinctions\n",
    "utils.input_extinction(driver, extinction)\n",
    "# Insert backscatters\n",
    "utils.input_backscatter(driver, backscatter)\n",
    "# Insert particle depolarization ratios\n",
    "utils.input_pd(driver, particle_depolarization)\n",
    "################### STARTING INVERSION ##########################################\n",
    "utils.press_button(driver,'submit')\n",
    "# time.sleep(60) \n",
    "WebDriverWait(driver, 300).until(EC.visibility_of_element_located((By.XPATH, \"//pre[contains(text(), 'Finished the inversion at')]\")))\n",
    "################### SAVING RESULTS ##############################################\n",
    "output_link = WebDriverWait(driver, 10).until(EC.element_to_be_clickable((By.PARTIAL_LINK_TEXT, \"Output results in text format\")))\n",
    "output_link.click()\n",
    "time.sleep(2)\n",
    "driver.switch_to.window(driver.window_handles[1])\n",
    "full_text_content = driver.find_element(By.TAG_NAME,'body').text\n",
    "\n",
    "# Save the extracted part to a file\n",
    "if not os.path.exists(directory):\n",
    "    os.makedirs(directory)\n",
    "# file_path = os.path.join(directory, 'Case01_110_111_110.txt')\n",
    "file_path = os.path.join(directory, f'Realization_with_avg_values_from_realizations.txt')\n",
    "with open(file_path, 'w') as file:\n",
    "    file.write(full_text_content)\n",
    "\n",
    "driver.close()\n",
    "driver.switch_to.window(driver.window_handles[0])"
   ]
  },
  {
   "cell_type": "markdown",
   "metadata": {},
   "source": [
    "## 100 RANDOM REALIZATIONS "
   ]
  },
  {
   "cell_type": "code",
   "execution_count": null,
   "metadata": {},
   "outputs": [],
   "source": [
    "for i in tqdm(range(n), desc='100 realizations'):\n",
    "    utils.press_button(driver,'clear') # Clear input parameters\n",
    "    extinction = {\n",
    "    'value' : [ext_355_realizations[i], ext_532_realizations[i]],\n",
    "    'error' : [0.2690, 0.2970],\n",
    "    # 'error' : [0.1, 0.1]\n",
    "    }\n",
    "    backscatter = {\n",
    "        'value' : [back_355_realizations[i], back_532_realizations[i], back_1064_realizations[i]],\n",
    "        'error' : [0.0613, 0.0455, 0.2049],\n",
    "        # 'error' : [0.1, 0.1, 0.1]\n",
    "    }\n",
    "    particle_depolarization = {\n",
    "        'value' : [pd_355_realizations[i], pd_355_realizations[i]],\n",
    "        'error' : [0.2259, 0.1199],\n",
    "        # 'error' : [0.1, 0.1]\n",
    "    }\n",
    "    print(f'Realization: {i+2}')\n",
    "\n",
    "    print(f'Starting with input parameters:')\n",
    "    print(f'Extinctions: {extinction}')\n",
    "    print(f'Backscatter: {backscatter}')\n",
    "    print(f'Particle depolarizations: {particle_depolarization}')\n",
    "    time.sleep(120)\n",
    "    # Select wavlengths \n",
    "    utils.select_wavelengths(driver, wavelengths_to_select)\n",
    "    # Insert extinctions\n",
    "    utils.input_extinction(driver, extinction)\n",
    "    # Insert backscatters\n",
    "    utils.input_backscatter(driver, backscatter)\n",
    "    # Insert particle depolarization ratios\n",
    "    utils.input_pd(driver, particle_depolarization)\n",
    "    ################### STARTING INVERSION ##########################################\n",
    "    utils.press_button(driver,'submit') \n",
    "    WebDriverWait(driver, 300).until(EC.visibility_of_element_located((By.XPATH, \"//pre[contains(text(), 'Finished the inversion at')]\")))\n",
    "    ################### SAVING RESULTS ##############################################\n",
    "    time.sleep(60)\n",
    "    output_link = WebDriverWait(driver, 50).until(EC.element_to_be_clickable((By.PARTIAL_LINK_TEXT, \"Output results in text format\")))\n",
    "    output_link.click()\n",
    "    time.sleep(2)\n",
    "    driver.switch_to.window(driver.window_handles[1])\n",
    "    full_text_content = driver.find_element(By.TAG_NAME,'body').text\n",
    "    if not os.path.exists(directory):\n",
    "            os.makedirs(directory)\n",
    "    filename = f'{directory}/Realization_{i+2}.txt'\n",
    "\n",
    "    # Save the extracted part to a file\n",
    "    with open(filename, 'w') as file:\n",
    "        file.write(full_text_content)\n",
    "\n",
    "    driver.close()\n",
    "    driver.switch_to.window(driver.window_handles[0])\n",
    "\n",
    "driver.quit()\n"
   ]
  },
  {
   "cell_type": "code",
   "execution_count": null,
   "metadata": {},
   "outputs": [],
   "source": [
    "driver.quit()"
   ]
  }
 ],
 "metadata": {
  "kernelspec": {
   "display_name": "Python 3",
   "language": "python",
   "name": "python3"
  },
  "language_info": {
   "codemirror_mode": {
    "name": "ipython",
    "version": 3
   },
   "file_extension": ".py",
   "mimetype": "text/x-python",
   "name": "python",
   "nbconvert_exporter": "python",
   "pygments_lexer": "ipython3",
   "version": "3.11.3"
  }
 },
 "nbformat": 4,
 "nbformat_minor": 2
}
