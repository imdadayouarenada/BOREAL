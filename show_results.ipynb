{
 "cells": [
  {
   "attachments": {},
   "cell_type": "markdown",
   "metadata": {},
   "source": [
    "# Printing results and passing them to MATLAB"
   ]
  },
  {
   "cell_type": "code",
   "execution_count": 1,
   "metadata": {},
   "outputs": [],
   "source": [
    "import pandas as pd\n",
    "import matlab.engine"
   ]
  },
  {
   "attachments": {},
   "cell_type": "markdown",
   "metadata": {},
   "source": [
    "## Loading the file"
   ]
  },
  {
   "cell_type": "code",
   "execution_count": 12,
   "metadata": {},
   "outputs": [],
   "source": [
    "file_path = '/Users/dada/Documents/Results/Case1.txt'\n",
    "with open(file_path, 'r') as file:\n",
    "    lines = file.readlines()"
   ]
  },
  {
   "attachments": {},
   "cell_type": "markdown",
   "metadata": {},
   "source": [
    "## Creating the Panda DataFrame"
   ]
  },
  {
   "cell_type": "code",
   "execution_count": 13,
   "metadata": {},
   "outputs": [
    {
     "data": {
      "text/html": [
       "<style type=\"text/css\">\n",
       "</style>\n",
       "<table id=\"T_330ef\">\n",
       "  <thead>\n",
       "    <tr>\n",
       "      <th class=\"blank level0\" >&nbsp;</th>\n",
       "      <th id=\"T_330ef_level0_col0\" class=\"col_heading level0 col0\" >Parameter</th>\n",
       "      <th id=\"T_330ef_level0_col1\" class=\"col_heading level0 col1\" >Mean</th>\n",
       "      <th id=\"T_330ef_level0_col2\" class=\"col_heading level0 col2\" >Std</th>\n",
       "    </tr>\n",
       "  </thead>\n",
       "  <tbody>\n",
       "    <tr>\n",
       "      <th id=\"T_330ef_level0_row0\" class=\"row_heading level0 row0\" >0</th>\n",
       "      <td id=\"T_330ef_row0_col0\" class=\"data row0 col0\" >mR</td>\n",
       "      <td id=\"T_330ef_row0_col1\" class=\"data row0 col1\" >1.48</td>\n",
       "      <td id=\"T_330ef_row0_col2\" class=\"data row0 col2\" >0.001</td>\n",
       "    </tr>\n",
       "    <tr>\n",
       "      <th id=\"T_330ef_level0_row1\" class=\"row_heading level0 row1\" >1</th>\n",
       "      <td id=\"T_330ef_row1_col0\" class=\"data row1 col0\" >mI</td>\n",
       "      <td id=\"T_330ef_row1_col1\" class=\"data row1 col1\" >0.001</td>\n",
       "      <td id=\"T_330ef_row1_col2\" class=\"data row1 col2\" >0.0001</td>\n",
       "    </tr>\n",
       "    <tr>\n",
       "      <th id=\"T_330ef_level0_row2\" class=\"row_heading level0 row2\" >2</th>\n",
       "      <td id=\"T_330ef_row2_col0\" class=\"data row2 col0\" >Vt(um^3/cm^3)</td>\n",
       "      <td id=\"T_330ef_row2_col1\" class=\"data row2 col1\" >103.16</td>\n",
       "      <td id=\"T_330ef_row2_col2\" class=\"data row2 col2\" >1.091</td>\n",
       "    </tr>\n",
       "    <tr>\n",
       "      <th id=\"T_330ef_level0_row3\" class=\"row_heading level0 row3\" >3</th>\n",
       "      <td id=\"T_330ef_row3_col0\" class=\"data row3 col0\" >Reff(um)</td>\n",
       "      <td id=\"T_330ef_row3_col1\" class=\"data row3 col1\" >0.79</td>\n",
       "      <td id=\"T_330ef_row3_col2\" class=\"data row3 col2\" >0.013</td>\n",
       "    </tr>\n",
       "  </tbody>\n",
       "</table>\n"
      ],
      "text/plain": [
       "<pandas.io.formats.style.Styler at 0x1283a23b0>"
      ]
     },
     "metadata": {},
     "output_type": "display_data"
    },
    {
     "data": {
      "text/html": [
       "<style type=\"text/css\">\n",
       "</style>\n",
       "<table id=\"T_dbac5\">\n",
       "  <thead>\n",
       "    <tr>\n",
       "      <th class=\"blank level0\" >&nbsp;</th>\n",
       "      <th id=\"T_dbac5_level0_col0\" class=\"col_heading level0 col0\" >r(um)</th>\n",
       "      <th id=\"T_dbac5_level0_col1\" class=\"col_heading level0 col1\" >VSD(um^3/cm^3)</th>\n",
       "      <th id=\"T_dbac5_level0_col2\" class=\"col_heading level0 col2\" >VSD_std(um^3/cm^3)</th>\n",
       "    </tr>\n",
       "  </thead>\n",
       "  <tbody>\n",
       "    <tr>\n",
       "      <th id=\"T_dbac5_level0_row0\" class=\"row_heading level0 row0\" >0</th>\n",
       "      <td id=\"T_dbac5_row0_col0\" class=\"data row0 col0\" >3.81076e-02</td>\n",
       "      <td id=\"T_dbac5_row0_col1\" class=\"data row0 col1\" >0.00000e+00</td>\n",
       "      <td id=\"T_dbac5_row0_col2\" class=\"data row0 col2\" >0.00000e+00</td>\n",
       "    </tr>\n",
       "    <tr>\n",
       "      <th id=\"T_dbac5_level0_row1\" class=\"row_heading level0 row1\" >1</th>\n",
       "      <td id=\"T_dbac5_row1_col0\" class=\"data row1 col0\" >5.00000e-02</td>\n",
       "      <td id=\"T_dbac5_row1_col1\" class=\"data row1 col1\" >5.72812e-03</td>\n",
       "      <td id=\"T_dbac5_row1_col2\" class=\"data row1 col2\" >1.28085e-02</td>\n",
       "    </tr>\n",
       "    <tr>\n",
       "      <th id=\"T_dbac5_level0_row2\" class=\"row_heading level0 row2\" >2</th>\n",
       "      <td id=\"T_dbac5_row2_col0\" class=\"data row2 col0\" >6.56037e-02</td>\n",
       "      <td id=\"T_dbac5_row2_col1\" class=\"data row2 col1\" >3.89531e-02</td>\n",
       "      <td id=\"T_dbac5_row2_col2\" class=\"data row2 col2\" >5.56841e-02</td>\n",
       "    </tr>\n",
       "    <tr>\n",
       "      <th id=\"T_dbac5_level0_row3\" class=\"row_heading level0 row3\" >3</th>\n",
       "      <td id=\"T_dbac5_row3_col0\" class=\"data row3 col0\" >8.60768e-02</td>\n",
       "      <td id=\"T_dbac5_row3_col1\" class=\"data row3 col1\" >1.39896e-01</td>\n",
       "      <td id=\"T_dbac5_row3_col2\" class=\"data row3 col2\" >1.43693e-01</td>\n",
       "    </tr>\n",
       "    <tr>\n",
       "      <th id=\"T_dbac5_level0_row4\" class=\"row_heading level0 row4\" >4</th>\n",
       "      <td id=\"T_dbac5_row4_col0\" class=\"data row4 col0\" >1.12939e-01</td>\n",
       "      <td id=\"T_dbac5_row4_col1\" class=\"data row4 col1\" >3.96498e-01</td>\n",
       "      <td id=\"T_dbac5_row4_col2\" class=\"data row4 col2\" >3.22822e-01</td>\n",
       "    </tr>\n",
       "    <tr>\n",
       "      <th id=\"T_dbac5_level0_row5\" class=\"row_heading level0 row5\" >5</th>\n",
       "      <td id=\"T_dbac5_row5_col0\" class=\"data row5 col0\" >1.48184e-01</td>\n",
       "      <td id=\"T_dbac5_row5_col1\" class=\"data row5 col1\" >2.02816e+00</td>\n",
       "      <td id=\"T_dbac5_row5_col2\" class=\"data row5 col2\" >7.03044e-01</td>\n",
       "    </tr>\n",
       "    <tr>\n",
       "      <th id=\"T_dbac5_level0_row6\" class=\"row_heading level0 row6\" >6</th>\n",
       "      <td id=\"T_dbac5_row6_col0\" class=\"data row6 col0\" >1.94429e-01</td>\n",
       "      <td id=\"T_dbac5_row6_col1\" class=\"data row6 col1\" >3.30225e+00</td>\n",
       "      <td id=\"T_dbac5_row6_col2\" class=\"data row6 col2\" >5.83256e-01</td>\n",
       "    </tr>\n",
       "    <tr>\n",
       "      <th id=\"T_dbac5_level0_row7\" class=\"row_heading level0 row7\" >7</th>\n",
       "      <td id=\"T_dbac5_row7_col0\" class=\"data row7 col0\" >2.55105e-01</td>\n",
       "      <td id=\"T_dbac5_row7_col1\" class=\"data row7 col1\" >5.71690e+00</td>\n",
       "      <td id=\"T_dbac5_row7_col2\" class=\"data row7 col2\" >7.06716e-01</td>\n",
       "    </tr>\n",
       "    <tr>\n",
       "      <th id=\"T_dbac5_level0_row8\" class=\"row_heading level0 row8\" >8</th>\n",
       "      <td id=\"T_dbac5_row8_col0\" class=\"data row8 col0\" >3.34716e-01</td>\n",
       "      <td id=\"T_dbac5_row8_col1\" class=\"data row8 col1\" >1.30438e+01</td>\n",
       "      <td id=\"T_dbac5_row8_col2\" class=\"data row8 col2\" >4.27184e-01</td>\n",
       "    </tr>\n",
       "    <tr>\n",
       "      <th id=\"T_dbac5_level0_row9\" class=\"row_heading level0 row9\" >9</th>\n",
       "      <td id=\"T_dbac5_row9_col0\" class=\"data row9 col0\" >4.39173e-01</td>\n",
       "      <td id=\"T_dbac5_row9_col1\" class=\"data row9 col1\" >2.13616e+01</td>\n",
       "      <td id=\"T_dbac5_row9_col2\" class=\"data row9 col2\" >1.37517e+00</td>\n",
       "    </tr>\n",
       "    <tr>\n",
       "      <th id=\"T_dbac5_level0_row10\" class=\"row_heading level0 row10\" >10</th>\n",
       "      <td id=\"T_dbac5_row10_col0\" class=\"data row10 col0\" >5.76227e-01</td>\n",
       "      <td id=\"T_dbac5_row10_col1\" class=\"data row10 col1\" >4.69977e+01</td>\n",
       "      <td id=\"T_dbac5_row10_col2\" class=\"data row10 col2\" >1.57132e+00</td>\n",
       "    </tr>\n",
       "    <tr>\n",
       "      <th id=\"T_dbac5_level0_row11\" class=\"row_heading level0 row11\" >11</th>\n",
       "      <td id=\"T_dbac5_row11_col0\" class=\"data row11 col0\" >7.56052e-01</td>\n",
       "      <td id=\"T_dbac5_row11_col1\" class=\"data row11 col1\" >8.03238e+01</td>\n",
       "      <td id=\"T_dbac5_row11_col2\" class=\"data row11 col2\" >3.95816e+00</td>\n",
       "    </tr>\n",
       "    <tr>\n",
       "      <th id=\"T_dbac5_level0_row12\" class=\"row_heading level0 row12\" >12</th>\n",
       "      <td id=\"T_dbac5_row12_col0\" class=\"data row12 col0\" >9.91996e-01</td>\n",
       "      <td id=\"T_dbac5_row12_col1\" class=\"data row12 col1\" >9.24560e+01</td>\n",
       "      <td id=\"T_dbac5_row12_col2\" class=\"data row12 col2\" >4.72397e+00</td>\n",
       "    </tr>\n",
       "    <tr>\n",
       "      <th id=\"T_dbac5_level0_row13\" class=\"row_heading level0 row13\" >13</th>\n",
       "      <td id=\"T_dbac5_row13_col0\" class=\"data row13 col0\" >1.30157e+00</td>\n",
       "      <td id=\"T_dbac5_row13_col1\" class=\"data row13 col1\" >5.84197e+01</td>\n",
       "      <td id=\"T_dbac5_row13_col2\" class=\"data row13 col2\" >4.37078e+00</td>\n",
       "    </tr>\n",
       "    <tr>\n",
       "      <th id=\"T_dbac5_level0_row14\" class=\"row_heading level0 row14\" >14</th>\n",
       "      <td id=\"T_dbac5_row14_col0\" class=\"data row14 col0\" >1.70776e+00</td>\n",
       "      <td id=\"T_dbac5_row14_col1\" class=\"data row14 col1\" >2.71246e+01</td>\n",
       "      <td id=\"T_dbac5_row14_col2\" class=\"data row14 col2\" >2.65595e+00</td>\n",
       "    </tr>\n",
       "    <tr>\n",
       "      <th id=\"T_dbac5_level0_row15\" class=\"row_heading level0 row15\" >15</th>\n",
       "      <td id=\"T_dbac5_row15_col0\" class=\"data row15 col0\" >2.24070e+00</td>\n",
       "      <td id=\"T_dbac5_row15_col1\" class=\"data row15 col1\" >1.43184e+01</td>\n",
       "      <td id=\"T_dbac5_row15_col2\" class=\"data row15 col2\" >1.54405e+00</td>\n",
       "    </tr>\n",
       "    <tr>\n",
       "      <th id=\"T_dbac5_level0_row16\" class=\"row_heading level0 row16\" >16</th>\n",
       "      <td id=\"T_dbac5_row16_col0\" class=\"data row16 col0\" >2.93997e+00</td>\n",
       "      <td id=\"T_dbac5_row16_col1\" class=\"data row16 col1\" >7.39909e+00</td>\n",
       "      <td id=\"T_dbac5_row16_col2\" class=\"data row16 col2\" >1.00455e+00</td>\n",
       "    </tr>\n",
       "    <tr>\n",
       "      <th id=\"T_dbac5_level0_row17\" class=\"row_heading level0 row17\" >17</th>\n",
       "      <td id=\"T_dbac5_row17_col0\" class=\"data row17 col0\" >3.85745e+00</td>\n",
       "      <td id=\"T_dbac5_row17_col1\" class=\"data row17 col1\" >3.64459e+00</td>\n",
       "      <td id=\"T_dbac5_row17_col2\" class=\"data row17 col2\" >6.18805e-01</td>\n",
       "    </tr>\n",
       "    <tr>\n",
       "      <th id=\"T_dbac5_level0_row18\" class=\"row_heading level0 row18\" >18</th>\n",
       "      <td id=\"T_dbac5_row18_col0\" class=\"data row18 col0\" >5.06126e+00</td>\n",
       "      <td id=\"T_dbac5_row18_col1\" class=\"data row18 col1\" >1.76999e+00</td>\n",
       "      <td id=\"T_dbac5_row18_col2\" class=\"data row18 col2\" >8.43874e-01</td>\n",
       "    </tr>\n",
       "    <tr>\n",
       "      <th id=\"T_dbac5_level0_row19\" class=\"row_heading level0 row19\" >19</th>\n",
       "      <td id=\"T_dbac5_row19_col0\" class=\"data row19 col0\" >6.64074e+00</td>\n",
       "      <td id=\"T_dbac5_row19_col1\" class=\"data row19 col1\" >9.93953e-01</td>\n",
       "      <td id=\"T_dbac5_row19_col2\" class=\"data row19 col2\" >5.42407e-01</td>\n",
       "    </tr>\n",
       "    <tr>\n",
       "      <th id=\"T_dbac5_level0_row20\" class=\"row_heading level0 row20\" >20</th>\n",
       "      <td id=\"T_dbac5_row20_col0\" class=\"data row20 col0\" >8.71315e+00</td>\n",
       "      <td id=\"T_dbac5_row20_col1\" class=\"data row20 col1\" >4.90441e-01</td>\n",
       "      <td id=\"T_dbac5_row20_col2\" class=\"data row20 col2\" >3.87055e-01</td>\n",
       "    </tr>\n",
       "    <tr>\n",
       "      <th id=\"T_dbac5_level0_row21\" class=\"row_heading level0 row21\" >21</th>\n",
       "      <td id=\"T_dbac5_row21_col0\" class=\"data row21 col0\" >1.14323e+01</td>\n",
       "      <td id=\"T_dbac5_row21_col1\" class=\"data row21 col1\" >2.06736e-01</td>\n",
       "      <td id=\"T_dbac5_row21_col2\" class=\"data row21 col2\" >2.99604e-01</td>\n",
       "    </tr>\n",
       "    <tr>\n",
       "      <th id=\"T_dbac5_level0_row22\" class=\"row_heading level0 row22\" >22</th>\n",
       "      <td id=\"T_dbac5_row22_col0\" class=\"data row22 col0\" >1.50000e+01</td>\n",
       "      <td id=\"T_dbac5_row22_col1\" class=\"data row22 col1\" >7.29304e-02</td>\n",
       "      <td id=\"T_dbac5_row22_col2\" class=\"data row22 col2\" >1.63077e-01</td>\n",
       "    </tr>\n",
       "    <tr>\n",
       "      <th id=\"T_dbac5_level0_row23\" class=\"row_heading level0 row23\" >23</th>\n",
       "      <td id=\"T_dbac5_row23_col0\" class=\"data row23 col0\" >1.96811e+01</td>\n",
       "      <td id=\"T_dbac5_row23_col1\" class=\"data row23 col1\" >0.00000e+00</td>\n",
       "      <td id=\"T_dbac5_row23_col2\" class=\"data row23 col2\" >0.00000e+00</td>\n",
       "    </tr>\n",
       "  </tbody>\n",
       "</table>\n"
      ],
      "text/plain": [
       "<pandas.io.formats.style.Styler at 0x127571cc0>"
      ]
     },
     "metadata": {},
     "output_type": "display_data"
    }
   ],
   "source": [
    "start_index = lines.index(\" mean std\\n\") + 1\n",
    "end_index = lines.index(\"r(um) dv/dlnr_mean(um^3/cm^3) dv/dlnr_std(um^3/cm^3)\\n\")\n",
    "\n",
    "# Extract the lines for this section\n",
    "section_lines = lines[start_index:end_index]\n",
    "\n",
    "# Parse this section into a DataFrame\n",
    "# Assuming space-separated values here; adjust as needed for your file's format\n",
    "baseline_data1 = pd.DataFrame([line.split() for line in section_lines])\n",
    "\n",
    "# Define column names based on your understanding of the data\n",
    "baseline_data1.columns = ['Parameter', 'Mean', 'Std']\n",
    "\n",
    "display(baseline_data1.style)\n",
    "\n",
    "start_index2 = lines.index(\"r(um) dv/dlnr_mean(um^3/cm^3) dv/dlnr_std(um^3/cm^3)\\n\") + 1\n",
    "section_lines2 = lines[start_index2:]\n",
    "baseline_data2 = pd.DataFrame([line.split() for line in section_lines2])\n",
    "baseline_data2.columns = ['r(um)','VSD(um^3/cm^3)', 'VSD_std(um^3/cm^3)']\n",
    "\n",
    "# print(df2)\n",
    "display(baseline_data2.style)"
   ]
  },
  {
   "attachments": {},
   "cell_type": "markdown",
   "metadata": {},
   "source": [
    "## Passing data to MATLAB and MATLAB Processing"
   ]
  },
  {
   "cell_type": "code",
   "execution_count": 14,
   "metadata": {},
   "outputs": [
    {
     "name": "stderr",
     "output_type": "stream",
     "text": [
      "Unrecognized function or variable 'show'.\n",
      "\n"
     ]
    },
    {
     "ename": "MatlabExecutionError",
     "evalue": "Unrecognized function or variable 'show'.\n",
     "output_type": "error",
     "traceback": [
      "\u001b[0;31m---------------------------------------------------------------------------\u001b[0m",
      "\u001b[0;31mMatlabExecutionError\u001b[0m                      Traceback (most recent call last)",
      "Cell \u001b[0;32mIn[14], line 11\u001b[0m\n\u001b[1;32m      9\u001b[0m eng\u001b[39m.\u001b[39mtitle(\u001b[39m'\u001b[39m\u001b[39mVolume Size Distribution\u001b[39m\u001b[39m'\u001b[39m)\n\u001b[1;32m     10\u001b[0m eng\u001b[39m.\u001b[39mgrid(\u001b[39m'\u001b[39m\u001b[39mon\u001b[39m\u001b[39m'\u001b[39m, nargout\u001b[39m=\u001b[39m\u001b[39m0\u001b[39m)\n\u001b[0;32m---> 11\u001b[0m eng\u001b[39m.\u001b[39;49mshow()\n",
      "File \u001b[0;32m/usr/local/lib/python3.10/site-packages/matlabengineforpython-9.14-py3.10.egg/matlab/engine/matlabengine.py:71\u001b[0m, in \u001b[0;36mMatlabFunc.__call__\u001b[0;34m(self, *args, **kwargs)\u001b[0m\n\u001b[1;32m     68\u001b[0m     \u001b[39mreturn\u001b[39;00m FutureResult(\u001b[39mself\u001b[39m\u001b[39m.\u001b[39m_engine(), future, nargs, _stdout, _stderr, feval\u001b[39m=\u001b[39m\u001b[39mTrue\u001b[39;00m)\n\u001b[1;32m     69\u001b[0m \u001b[39melse\u001b[39;00m:\n\u001b[1;32m     70\u001b[0m     \u001b[39mreturn\u001b[39;00m FutureResult(\u001b[39mself\u001b[39;49m\u001b[39m.\u001b[39;49m_engine(), future, nargs, _stdout,\n\u001b[0;32m---> 71\u001b[0m                         _stderr, feval\u001b[39m=\u001b[39;49m\u001b[39mTrue\u001b[39;49;00m)\u001b[39m.\u001b[39;49mresult()\n",
      "File \u001b[0;32m/usr/local/lib/python3.10/site-packages/matlabengineforpython-9.14-py3.10.egg/matlab/engine/futureresult.py:67\u001b[0m, in \u001b[0;36mFutureResult.result\u001b[0;34m(self, timeout)\u001b[0m\n\u001b[1;32m     64\u001b[0m     \u001b[39mif\u001b[39;00m timeout \u001b[39m<\u001b[39m \u001b[39m0\u001b[39m:\n\u001b[1;32m     65\u001b[0m         \u001b[39mraise\u001b[39;00m \u001b[39mTypeError\u001b[39;00m(pythonengine\u001b[39m.\u001b[39mgetMessage(\u001b[39m'\u001b[39m\u001b[39mTimeoutCannotBeNegative\u001b[39m\u001b[39m'\u001b[39m))\n\u001b[0;32m---> 67\u001b[0m \u001b[39mreturn\u001b[39;00m \u001b[39mself\u001b[39;49m\u001b[39m.\u001b[39;49m__future\u001b[39m.\u001b[39;49mresult(timeout)\n",
      "File \u001b[0;32m/usr/local/lib/python3.10/site-packages/matlabengineforpython-9.14-py3.10.egg/matlab/engine/fevalfuture.py:82\u001b[0m, in \u001b[0;36mFevalFuture.result\u001b[0;34m(self, timeout)\u001b[0m\n\u001b[1;32m     79\u001b[0m \u001b[39mif\u001b[39;00m \u001b[39mnot\u001b[39;00m result_ready:\n\u001b[1;32m     80\u001b[0m     \u001b[39mraise\u001b[39;00m \u001b[39mTimeoutError\u001b[39;00m(pythonengine\u001b[39m.\u001b[39mgetMessage(\u001b[39m'\u001b[39m\u001b[39mMatlabFunctionTimeout\u001b[39m\u001b[39m'\u001b[39m))\n\u001b[0;32m---> 82\u001b[0m \u001b[39mself\u001b[39m\u001b[39m.\u001b[39m_result \u001b[39m=\u001b[39m pythonengine\u001b[39m.\u001b[39;49mgetFEvalResult(\u001b[39mself\u001b[39;49m\u001b[39m.\u001b[39;49m_future,\u001b[39mself\u001b[39;49m\u001b[39m.\u001b[39;49m_nargout, \u001b[39mNone\u001b[39;49;00m, out\u001b[39m=\u001b[39;49m\u001b[39mself\u001b[39;49m\u001b[39m.\u001b[39;49m_out, err\u001b[39m=\u001b[39;49m\u001b[39mself\u001b[39;49m\u001b[39m.\u001b[39;49m_err)\n\u001b[1;32m     83\u001b[0m \u001b[39mself\u001b[39m\u001b[39m.\u001b[39m_retrieved \u001b[39m=\u001b[39m \u001b[39mTrue\u001b[39;00m\n\u001b[1;32m     84\u001b[0m \u001b[39mreturn\u001b[39;00m \u001b[39mself\u001b[39m\u001b[39m.\u001b[39m_result\n",
      "\u001b[0;31mMatlabExecutionError\u001b[0m: Unrecognized function or variable 'show'.\n"
     ]
    }
   ],
   "source": [
    "eng = matlab.engine.start_matlab()\n",
    "\n",
    "r_um = matlab.double(baseline_data2['r(um)'].astype(float).tolist())\n",
    "vsd = matlab.double(baseline_data2['VSD(um^3/cm^3)'].astype(float).tolist())\n",
    "\n",
    "eng.plot(r_um, vsd, nargout=0)\n",
    "eng.xlabel('r(\\microm)')\n",
    "eng.ylabel('VSD(\\microm{^3}/cm^3)')\n",
    "eng.title('Volume Size Distribution')\n",
    "eng.grid('on', nargout=0)\n",
    "eng.show()"
   ]
  },
  {
   "cell_type": "code",
   "execution_count": 9,
   "metadata": {},
   "outputs": [
    {
     "name": "stdout",
     "output_type": "stream",
     "text": [
      "Parameter\n",
      "       Parameter    Mean     Std\n",
      "0             mR    1.48   0.001\n",
      "1             mI   0.001  0.0001\n",
      "2  Vt(um^3/cm^3)  103.16   1.091\n",
      "3       Reff(um)    0.79   0.013\n"
     ]
    }
   ],
   "source": []
  },
  {
   "cell_type": "code",
   "execution_count": null,
   "metadata": {},
   "outputs": [],
   "source": []
  }
 ],
 "metadata": {
  "kernelspec": {
   "display_name": "Python 3",
   "language": "python",
   "name": "python3"
  },
  "language_info": {
   "codemirror_mode": {
    "name": "ipython",
    "version": 3
   },
   "file_extension": ".py",
   "mimetype": "text/x-python",
   "name": "python",
   "nbconvert_exporter": "python",
   "pygments_lexer": "ipython3",
   "version": "3.10.14"
  },
  "orig_nbformat": 4
 },
 "nbformat": 4,
 "nbformat_minor": 2
}
