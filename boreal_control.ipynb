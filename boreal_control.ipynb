{
 "cells": [
  {
   "attachments": {},
   "cell_type": "markdown",
   "metadata": {},
   "source": [
    "# BOREAL CONTROL CODE "
   ]
  },
  {
   "attachments": {},
   "cell_type": "markdown",
   "metadata": {},
   "source": [
    "## Imports "
   ]
  },
  {
   "cell_type": "code",
   "execution_count": 1,
   "metadata": {},
   "outputs": [],
   "source": [
    "from selenium import webdriver\n",
    "from selenium.webdriver.common.by import By\n",
    "from selenium.webdriver.common.keys import Keys\n",
    "from selenium.webdriver.support.ui import WebDriverWait\n",
    "from selenium.webdriver.support import expected_conditions as EC\n",
    "from selenium.webdriver.chrome.options import Options\n",
    "from selenium.common.exceptions import TimeoutException\n",
    "from selenium.webdriver.common.action_chains import ActionChains\n",
    "from selenium.webdriver.chrome.service import Service\n",
    "import utils\n",
    "import os\n",
    "import time\n",
    "import math\n",
    "from itertools import product\n",
    "from tqdm import tqdm"
   ]
  },
  {
   "attachments": {},
   "cell_type": "markdown",
   "metadata": {},
   "source": [
    "## Chrome Preferences"
   ]
  },
  {
   "cell_type": "code",
   "execution_count": null,
   "metadata": {},
   "outputs": [],
   "source": [
    "download_path = \"/Users/dada/Documents/RESULTS/Results_BCN21thMarch2024\"\n",
    "chrome_options = Options()\n",
    "prefs = {\n",
    "    \"download.default_directory\": download_path,\n",
    "    \"download.prompt_for_download\": False,\n",
    "    \"download.directory_upgrade\": True,\n",
    "    \"safebrowsing.enabled\": True\n",
    "}\n",
    "chrome_options.add_experimental_option(\"prefs\", prefs)\n",
    "# Headless option is used to use Selenium in headless mode \n",
    "chrome_options.add_argument(\"--headless\")\n",
    "chrome_options.add_argument(\"--disable-gpu\")  # Disables GPU hardware acceleration. If software renderer is not in place, then the headless browser will not launch on Windows.\n",
    "chrome_options.add_argument(\"--no-sandbox\")  # Bypass OS security model, MUST BE THE VERY FIRST OPTION.\n",
    "chrome_options.add_argument(\"--disable-dev-shm-usage\") # Overcome limited resource problems."
   ]
  },
  {
   "attachments": {},
   "cell_type": "markdown",
   "metadata": {},
   "source": [
    "## Useful Paths and Input Parameters"
   ]
  },
  {
   "cell_type": "code",
   "execution_count": 2,
   "metadata": {},
   "outputs": [
    {
     "name": "stdout",
     "output_type": "stream",
     "text": [
      "{'extinction': [1, 1, 0], 'backscatter': [1, 1, 1], 'particle depolarization': [1, 1, 0]}\n",
      "Extinctions: {'value': [67.837, 30.308], 'error': [0.1283, 0.148]}\n",
      "Backscatter: {'value': [1.7279, 1.392, 0.86137], 'error': [0.0418, 0.0483, 0.0336]}\n",
      "Particle depolarizations: {'value': [0.0992, 0.1377], 'error': [0.0399, 0.0707]}\n",
      "Directory where to save results: /Users/dada/Desktop/THESIS_DEFENSE\n"
     ]
    }
   ],
   "source": [
    "################## SELECT WAVELENGTHS TO BE CONSIDERED ################## \n",
    "wavelengths_to_select = {\n",
    "    'extinction' : [1,1,0],\n",
    "    'backscatter' : [1,1,1],\n",
    "    'particle depolarization' : [1,1,0],\n",
    "} \n",
    "print(wavelengths_to_select)\n",
    "################## INPUT VALUES #########################################\n",
    "extinction = {\n",
    "    'value' : [67.837, 30.308],\n",
    "    'error' : [0.1283, 0.1480],\n",
    "}\n",
    "backscatter = {\n",
    "    'value' : [1.7279, 1.3920, 0.86137],\n",
    "    'error' : [0.0418, 0.0483, 0.0336],\n",
    "}\n",
    "particle_depolarization = {\n",
    "    'value' : [0.0992, 0.1377],\n",
    "    'error' : [0.0399, 0.0707],\n",
    "}\n",
    "print(f'Extinctions: {extinction}')\n",
    "print(f'Backscatter: {backscatter}')\n",
    "print(f'Particle depolarizations: {particle_depolarization}')\n",
    "directory = '/Users/dada/Desktop/THESIS_DEFENSE'\n",
    "# directory = '/Users/dada/Desktop/TFM/EARLINET_Database/FINAL_CASES/BCN_12_04_2024/Boreal_Outputs/VSD_column2'\n",
    "print(f'Directory where to save results: {directory}')"
   ]
  },
  {
   "attachments": {},
   "cell_type": "markdown",
   "metadata": {},
   "source": [
    "## Main"
   ]
  },
  {
   "cell_type": "code",
   "execution_count": 3,
   "metadata": {},
   "outputs": [
    {
     "name": "stdout",
     "output_type": "stream",
     "text": [
      "An error occurred when trying to press 'clear' button: Message: \n",
      "Stacktrace:\n",
      "0   chromedriver                        0x00000001055c3248 chromedriver + 5096008\n",
      "1   chromedriver                        0x00000001055baa7a chromedriver + 5061242\n",
      "2   chromedriver                        0x0000000105145fd0 chromedriver + 389072\n",
      "3   chromedriver                        0x00000001051929ab chromedriver + 702891\n",
      "4   chromedriver                        0x0000000105192a81 chromedriver + 703105\n",
      "5   chromedriver                        0x00000001051d6cd4 chromedriver + 982228\n",
      "6   chromedriver                        0x00000001051b6f1d chromedriver + 851741\n",
      "7   chromedriver                        0x00000001051d4250 chromedriver + 971344\n",
      "8   chromedriver                        0x00000001051b6c93 chromedriver + 851091\n",
      "9   chromedriver                        0x0000000105185c79 chromedriver + 650361\n",
      "10  chromedriver                        0x000000010518649e chromedriver + 652446\n",
      "11  chromedriver                        0x0000000105585fc0 chromedriver + 4845504\n",
      "12  chromedriver                        0x000000010558aed8 chromedriver + 4865752\n",
      "13  chromedriver                        0x000000010558b5a5 chromedriver + 4867493\n",
      "14  chromedriver                        0x0000000105568bf9 chromedriver + 4725753\n",
      "15  chromedriver                        0x000000010558b899 chromedriver + 4868249\n",
      "16  chromedriver                        0x000000010555ab14 chromedriver + 4668180\n",
      "17  chromedriver                        0x00000001055aad78 chromedriver + 4996472\n",
      "18  chromedriver                        0x00000001055aaf77 chromedriver + 4996983\n",
      "19  chromedriver                        0x00000001055ba67e chromedriver + 5060222\n",
      "20  libsystem_pthread.dylib             0x00007ff80d31e18b _pthread_start + 99\n",
      "21  libsystem_pthread.dylib             0x00007ff80d319ae3 thread_start + 15\n",
      "\n"
     ]
    }
   ],
   "source": [
    "# driver = webdriver.Chrome(options=chrome_options)\n",
    "driver = webdriver.Chrome()\n",
    "driver.get(\"https://boreal.loa.univ-lille.fr/\")\n",
    "utils.press_button(driver,'clear') # Clear input parameters\n",
    "# utils.press_button(driver,'debug') # Allow debug\n",
    "\n",
    "################## INSERTING INPUT PARAMETERS #########################################\n",
    "# Select aerosol type\n",
    "utils.select_aerosol_type(driver, 'dust') \n",
    "# Select particle shape model\n",
    "utils.select_particle_shape_model(driver, 'spheroid') \n",
    "# Select wavlengths \n",
    "utils.select_wavelengths(driver, wavelengths_to_select)\n",
    "# Insert extinctions\n",
    "utils.input_extinction(driver, extinction)\n",
    "# Insert backscatters\n",
    "utils.input_backscatter(driver, backscatter)\n",
    "# Insert particle depolarization ratios\n",
    "utils.input_pd(driver, particle_depolarization)\n",
    "################### STARTING INVERSION ##########################################\n",
    "utils.press_button(driver,'submit')\n",
    "# time.sleep(60) \n",
    "WebDriverWait(driver, 300).until(EC.visibility_of_element_located((By.XPATH, \"//pre[contains(text(), 'Finished the inversion at')]\")))\n",
    "################### SAVING RESULTS ##############################################\n",
    "output_link = WebDriverWait(driver, 10).until(EC.element_to_be_clickable((By.PARTIAL_LINK_TEXT, \"Output results in text format\")))\n",
    "output_link.click()\n",
    "time.sleep(2)\n",
    "driver.switch_to.window(driver.window_handles[1])\n",
    "full_text_content = driver.find_element(By.TAG_NAME,'body').text\n",
    "\n",
    "# Save the results in a file\n",
    "if not os.path.exists(directory):\n",
    "    os.makedirs(directory)\n",
    "# file_path = os.path.join(directory, 'Case01_110_111_110.txt')\n",
    "file_path = os.path.join(directory, 'Case01_110_111_110.txt')\n",
    "with open(file_path, 'w') as file:\n",
    "    file.write(full_text_content)\n",
    "\n",
    "driver.close()\n",
    "driver.switch_to.window(driver.window_handles[0])\n"
   ]
  },
  {
   "attachments": {},
   "cell_type": "markdown",
   "metadata": {},
   "source": [
    "## Lists with all possible wavelengths combinations"
   ]
  },
  {
   "cell_type": "code",
   "execution_count": null,
   "metadata": {},
   "outputs": [],
   "source": [
    "# All cases with 7 input parameters\n",
    "possible_values = [0, 1]\n",
    "extinction_combinations = [(0, 0, 0), (0, 1, 0), (1, 0, 0), (1, 1, 0)] # Extinction valid combinations\n",
    "particle_depolarization_combinations = [(0, 0, 0), (0, 1, 0), (1, 0, 0), (1, 1, 0)] # Particle depolarization valid combinations\n",
    "backscatter_combinations = list(product(possible_values, repeat=3)) # All backscatter combinations are allowed\n",
    "\n",
    "valid_combinations = [] # List to store all possible combinations\n",
    "for ext in extinction_combinations:\n",
    "    for back in backscatter_combinations:\n",
    "        for part in particle_depolarization_combinations:\n",
    "            total_selected = sum(ext) + sum(back) + sum(part)\n",
    "            \n",
    "            current_combination = {\n",
    "                'extinction': list(ext),\n",
    "                'backscatter': list(back),\n",
    "                'particle depolarization': list(part)\n",
    "            }\n",
    "            \n",
    "            # Check if the combination meets the algorithm's criteria: \n",
    "            # >= 3, at least on extinction, at least one backscatter\n",
    "            if (total_selected >= 3 and sum(ext) >= 1 and sum(back) >= 1):\n",
    "                # Exclude the initial combination\n",
    "                if current_combination['extinction'] != wavelengths_to_select['extinction'] or current_combination['backscatter'] != wavelengths_to_select['backscatter'] or current_combination['particle depolarization'] != wavelengths_to_select['particle depolarization']:\n",
    "                    valid_combinations.append({\n",
    "                        'extinction': ext,\n",
    "                        'backscatter': back,\n",
    "                        'particle depolarization': part,\n",
    "                        'total_selected': total_selected\n",
    "                    })\n",
    "                else: \n",
    "                    print(current_combination) \n",
    "# print(wavelengths_to_select)\n",
    "len(valid_combinations), valid_combinations[:5]"
   ]
  },
  {
   "attachments": {},
   "cell_type": "markdown",
   "metadata": {},
   "source": [
    "## Iteration Procedure"
   ]
  },
  {
   "cell_type": "code",
   "execution_count": null,
   "metadata": {},
   "outputs": [],
   "source": [
    "n = 2 # Needed to name each file\n",
    "\n",
    "for combination in tqdm(valid_combinations, desc='Collecting data'):\n",
    "    # Create again the \"wavelengths_to_select\"\n",
    "    wavelengths_to_select = {\n",
    "        'extinction': combination['extinction'],\n",
    "        'backscatter': combination['backscatter'],\n",
    "        'particle depolarization': combination['particle depolarization'],\n",
    "    }\n",
    "    print(\"Starting: \", wavelengths_to_select)\n",
    "    time.sleep(120)\n",
    "    utils.select_wavelengths(driver, wavelengths_to_select) \n",
    "    ################### STARTING INVERSION ##########################################\n",
    "    utils.press_button(driver,'submit') \n",
    "    WebDriverWait(driver, 300).until(EC.visibility_of_element_located((By.XPATH, \"//pre[contains(text(), 'Finished the inversion at')]\")))\n",
    "    ################### SAVING RESULTS ##############################################\n",
    "    time.sleep(60)\n",
    "    output_link = WebDriverWait(driver, 50).until(EC.element_to_be_clickable((By.PARTIAL_LINK_TEXT, \"Output results in text format\")))\n",
    "    output_link.click()\n",
    "    time.sleep(2)\n",
    "    driver.switch_to.window(driver.window_handles[1])\n",
    "    full_text_content = driver.find_element(By.TAG_NAME,'body').text\n",
    "\n",
    "    # Construct the filename\n",
    "    ext_str = ''.join(map(str, combination['extinction']))\n",
    "    back_str = ''.join(map(str, combination['backscatter']))\n",
    "    part_str = ''.join(map(str, combination['particle depolarization']))\n",
    "    \n",
    "    if not os.path.exists(directory):\n",
    "        os.makedirs(directory)\n",
    "    filename = f'{directory}/Case{n}_{ext_str}_{back_str}_{part_str}.txt'\n",
    "\n",
    "    # Save the extracted part to a file\n",
    "    with open(filename, 'w') as file:\n",
    "        file.write(full_text_content)\n",
    "    n += 1\n",
    "\n",
    "    driver.close()\n",
    "    driver.switch_to.window(driver.window_handles[0])\n",
    "\n",
    "driver.quit()\n",
    "\n"
   ]
  }
 ],
 "metadata": {
  "kernelspec": {
   "display_name": "Python 3",
   "language": "python",
   "name": "python3"
  },
  "language_info": {
   "codemirror_mode": {
    "name": "ipython",
    "version": 3
   },
   "file_extension": ".py",
   "mimetype": "text/x-python",
   "name": "python",
   "nbconvert_exporter": "python",
   "pygments_lexer": "ipython3",
   "version": "3.11.3"
  },
  "orig_nbformat": 4
 },
 "nbformat": 4,
 "nbformat_minor": 2
}
