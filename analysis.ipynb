{
 "cells": [
  {
   "attachments": {},
   "cell_type": "markdown",
   "metadata": {},
   "source": [
    "# Analysis of Results"
   ]
  },
  {
   "attachments": {},
   "cell_type": "markdown",
   "metadata": {},
   "source": [
    "## Imports "
   ]
  },
  {
   "cell_type": "code",
   "execution_count": 1,
   "metadata": {},
   "outputs": [],
   "source": [
    "import pandas as pd\n",
    "# import matlab.engine\n",
    "import math\n",
    "from itertools import product\n",
    "import numpy as np\n",
    "import re\n",
    "import utils_analysis\n",
    "from utils_analysis import parse_file, create_combined_dataframe\n",
    "import os\n",
    "import matplotlib.pyplot as plt\n",
    "from pandas.plotting import table\n",
    "# import chardet"
   ]
  },
  {
   "cell_type": "code",
   "execution_count": null,
   "metadata": {},
   "outputs": [],
   "source": [
    "filepath = '/Users/dada/Desktop/TFM/EARLINET_Database/BCN_15_04_2022/Results/Results_BCN15thApril2022_same_error/Case49_100_111_010.txt'  \n",
    "df1, df2 = parse_file(filepath)\n",
    "display(df1.style)\n",
    "display(df2.style)\n",
    "# df2.to_csv('VSD_Case5_010_010_010.csv', index=False)\n",
    "\n",
    "filepath = '/Users/dada/Desktop/TFM/EARLINET_Database/BCN_15_04_2022/Results/Results_BCN15thApril2022/Case49_100_111_010.txt'  \n",
    "df1, df2 = parse_file(filepath)\n",
    "display(df1.style)\n",
    "display(df2.style)\n",
    "# df2.to_csv('VSD_Case75_110_110_110.csv', index=False)\n",
    "\n",
    "# filepath = '/Users/dada/Desktop/TFM/EARLINET_Database/BCN_27_03_2022/same_error/Results_BCN27thMarch2022_same_error_copia2/Case01_110_111_110.txt'  \n",
    "# df1, df2 = parse_file(filepath)\n",
    "# display(df1.style)\n",
    "# display(df2.style)\n",
    "# df2.to_csv('VSD_Case38_100_100_100.csv', index=False)"
   ]
  },
  {
   "cell_type": "code",
   "execution_count": null,
   "metadata": {},
   "outputs": [],
   "source": [
    "# folder_path = '/Users/dada/Desktop/TFM/EARLINET_Database/FINAL_CASES/BCN_12_04_2024/Results/Results_BCN12thApril2024_same_error'  \n",
    "# folder_path = '/Users/dada/Desktop/TFM/EARLINET_Database/FINAL_CASES/BCN_27_03_2022/Results_correct_same_error/Results_BCN27thMarch2022_same_error_copia'\n",
    "folder_path = '/Users/dada/Desktop/TFM/EARLINET_Database/FINAL_CASES/BCN_21_03_2024/Results/Results_BCN21stMarch2024_same_error'\n",
    "# folder_path = '/Users/dada/Desktop/TFM/EARLINET_Database/FINAL_CASES/BCN_15_04_2022/Results/Results_BCN15thApril2022_same_error'\n",
    "# folder_path = ''\n",
    "combined_df = create_combined_dataframe(folder_path)\n",
    "display(combined_df.style)\n",
    "# combined_df.to_csv('/Users/dada/Desktop/TFM/EARLINET Database/BCN_27_03_2022/same_error/Results_BCN27thMarch2022_same_error copia/combined_data.csv', index=False)\n"
   ]
  },
  {
   "cell_type": "code",
   "execution_count": null,
   "metadata": {},
   "outputs": [],
   "source": [
    "folder_path = '/Users/dada/Desktop/TFM/EARLINET_Database/BCN_15_04_2022/Results/Results_BCN15thApril2022'  \n",
    "combined_df = create_combined_dataframe(folder_path)\n",
    "display(combined_df.style)"
   ]
  },
  {
   "attachments": {},
   "cell_type": "markdown",
   "metadata": {},
   "source": [
    "## Creating Matlab Files"
   ]
  },
  {
   "cell_type": "code",
   "execution_count": 2,
   "metadata": {},
   "outputs": [],
   "source": [
    "# # 15 April 2022\n",
    "# input_folder_path = '/Users/dada/Desktop/TFM/EARLINET_Database/FINAL_CASES/BCN_15_04_2022/boreal_outputs/VSD_Column'\n",
    "# output_folder_path_VSD = '/Users/dada/Desktop/TFM/EARLINET_Database/FINAL_CASES/BCN_15_04_2022/boreal_outputs/VSD_Column/VSDs_BCN15thApril2022_altitudes'\n",
    "# output_folder_path_data = '/Users/dada/Desktop/TFM/EARLINET_Database/FINAL_CASES/BCN_15_04_2022/boreal_outputs/VSD_Column/DATA_BCN15thApril2022_altitudes'\n",
    "\n",
    "# # 27 March 2022\n",
    "# input_folder_path = '/Users/dada/Desktop/TFM/EARLINET_Database/FINAL_CASES/BCN_15_04_2022/boreal_outputs/VSD_Column'\n",
    "# output_folder_path_VSD = '/Users/dada/Desktop/TFM/EARLINET_Database/FINAL_CASES/BCN_15_04_2022/boreal_outputs/VSD_Column/VSDs_BCN15thApril2022_altitudes'\n",
    "# output_folder_path_data = '/Users/dada/Desktop/TFM/EARLINET_Database/FINAL_CASES/BCN_15_04_2022/boreal_outputs/VSD_Column/DATA_BCN15thApril2022_altitudes'\n",
    "\n",
    "# # 12 April 2024\n",
    "# input_folder_path = '/Users/dada/Desktop/TFM/EARLINET_Database/FINAL_CASES/BCN_12_04_2024/Boreal_Outputs/VSD_column2'\n",
    "# output_folder_path_VSD = '/Users/dada/Desktop/TFM/EARLINET_Database/FINAL_CASES/BCN_12_04_2024/Boreal_Outputs/VSD_column2/VSDs_BCN12thApril2024_altitudes_6_samples'\n",
    "# output_folder_path_data = '/Users/dada/Desktop/TFM/EARLINET_Database/FINAL_CASES/BCN_12_04_2024/Boreal_Outputs/VSD_column2/DATA_BCN12thApril2024_altitudes_6_samples'\n",
    "\n",
    "# # Retrieval Uncertainty \n",
    "# input_folder_path = '/Users/dada/Desktop/TFM/EARLINET_Database/FINAL_CASES/BCN_12_04_2024/Retrieval_Uncertainty'\n",
    "# output_folder_path_VSD = '/Users/dada/Desktop/TFM/EARLINET_Database/FINAL_CASES/BCN_12_04_2024/Retrieval_Uncertainty_VSDs_BCN12thApril2024'\n",
    "# output_folder_path_data = '/Users/dada/Desktop/TFM/EARLINET_Database/FINAL_CASES/BCN_12_04_2024/Retrieval_Uncertainty_DATA_BCN12thApril2024'\n",
    "\n",
    "# Retrieval Uncertainty \n",
    "input_folder_path = '/Users/dada/Desktop/TFM/EARLINET_Database/FINAL_CASES/BCN_12_04_2024/Retrieval_Uncertainty_same_error'\n",
    "output_folder_path_VSD = '/Users/dada/Desktop/TFM/EARLINET_Database/FINAL_CASES/BCN_12_04_2024/Retrieval_Uncertainty_same_error_VSDs_BCN12thApril2024'\n",
    "output_folder_path_data = '/Users/dada/Desktop/TFM/EARLINET_Database/FINAL_CASES/BCN_12_04_2024/Retrieval_Uncertainty_same_error_DATA_BCN12thApril2024'\n",
    "\n",
    "if not os.path.exists(output_folder_path_VSD):\n",
    "    os.makedirs(output_folder_path_VSD)\n",
    "if not os.path.exists(output_folder_path_data):\n",
    "    os.makedirs(output_folder_path_data)\n",
    "\n",
    "for filename in os.listdir(input_folder_path):\n",
    "    file_path = os.path.join(input_folder_path, filename)\n",
    "    \n",
    "    # Check if it's a file and not a directory\n",
    "    if os.path.isfile(file_path):\n",
    "        # Apply processing function\n",
    "        df1,df2 = parse_file(file_path)\n",
    "        \n",
    "        # Construct the output file path\n",
    "        output_file_path_VSD = os.path.join(output_folder_path_VSD, filename.replace('.txt', '.csv'))\n",
    "        output_file_path_data = os.path.join(output_folder_path_data, filename.replace('.txt','.csv'))\n",
    "        \n",
    "        # Export the DataFrame to CSV\n",
    "        df2.to_csv(output_file_path_VSD, index=False)\n",
    "        df1.to_csv(output_file_path_data, index=False)"
   ]
  },
  {
   "cell_type": "code",
   "execution_count": null,
   "metadata": {},
   "outputs": [],
   "source": [
    "input_folder_path1 = '/Users/dada/Documents/Provissima'\n",
    "output_folder_path1 = '/Users/dada/Documents/VSDs_Lille2'\n",
    "\n",
    "if not os.path.exists(output_folder_path1):\n",
    "    os.makedirs(output_folder_path1)\n",
    "\n",
    "for filename in os.listdir(input_folder_path1):\n",
    "    file_path = os.path.join(input_folder_path1, filename)\n",
    "    \n",
    "    # Check if it's a file and not a directory\n",
    "    if os.path.isfile(file_path):\n",
    "        # Apply your processing function\n",
    "        df1,df2 = parse_file(file_path)\n",
    "        \n",
    "        # Construct the output file path\n",
    "        output_file_path1 = os.path.join(output_folder_path1, filename.replace('.txt', '.csv'))\n",
    "        \n",
    "        # Export the DataFrame to CSV\n",
    "        df2.to_csv(output_file_path1, index=False)\n"
   ]
  }
 ],
 "metadata": {
  "kernelspec": {
   "display_name": "Python 3",
   "language": "python",
   "name": "python3"
  },
  "language_info": {
   "codemirror_mode": {
    "name": "ipython",
    "version": 3
   },
   "file_extension": ".py",
   "mimetype": "text/x-python",
   "name": "python",
   "nbconvert_exporter": "python",
   "pygments_lexer": "ipython3",
   "version": "3.10.14"
  },
  "orig_nbformat": 4
 },
 "nbformat": 4,
 "nbformat_minor": 2
}
